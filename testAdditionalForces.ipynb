{
 "cells": [
  {
   "cell_type": "code",
   "execution_count": 1,
   "metadata": {
    "collapsed": true
   },
   "outputs": [],
   "source": [
    "import rebound\n",
    "import os"
   ]
  },
  {
   "cell_type": "code",
   "execution_count": 23,
   "metadata": {
    "collapsed": false
   },
   "outputs": [
    {
     "name": "stdout",
     "output_type": "stream",
     "text": [
      "---------------------------------\n",
      "REBOUND version:     \t2.13.10\n",
      "REBOUND built on:    \tApr  2 2016 12:38:43\n",
      "Number of particles: \t3\n",
      "Selected integrator: \tias15\n",
      "Simulation time:     \t0.000000\n",
      "Current timestep:    \t0.001000\n",
      "---------------------------------\n",
      "<rebound.Particle object, id=0 m=1.0 x=0.0 y=0.0 z=0.0 vx=0.0 vy=0.0 vz=0.0>\n",
      "<rebound.Particle object, id=0 m=3.04043264802e-06 x=-0.30906733255 y=-0.966078279443 z=3.72018216533e-05 vx=0.936270754933 vy=-0.308484956484 vz=7.27604888417e-06>\n",
      "<rebound.Particle object, id=0 m=0.0 x=-0.212570729701 y=-0.992315764813 z=3.72018216533e-05 vx=0.937717492981 vy=-0.303164122386 vz=7.27604888417e-06>\n",
      "---------------------------------\n"
     ]
    }
   ],
   "source": [
    "date = \"2020-01-01 12:00\"\n",
    "filename = 'cache.bin'\n",
    "\n",
    "sim = rebound.Simulation()#.from_file(filename)\n",
    "sim.add(m=1.)\n",
    "\n",
    "sim.add(m=3.04043264802e-06, x=-0.30906733255, y=-0.966078279443, z=3.72018216533e-05, vx=0.936270754933, vy=-0.308484956484, vz=7.27604888417e-06)\n",
    "sim.add(m=0, primary=sim.particles[1], a=0.1, Omega=3, )\n",
    "# sim.add(m=3.22715603755e-07, x=-0.578048405808, y=-1.3918843324, z=-0.0149811578049, vx=0.781913206607, vy=-0.242153284179, vz=-0.0242646152908)\n",
    "sim.status()\n",
    "\n",
    "\n",
    "\n",
    "sim.move_to_com()"
   ]
  },
  {
   "cell_type": "code",
   "execution_count": 24,
   "metadata": {
    "collapsed": false
   },
   "outputs": [
    {
     "name": "stdout",
     "output_type": "stream",
     "text": [
      "---------------------------------\n",
      "REBOUND version:     \t2.13.10\n",
      "REBOUND built on:    \tApr  2 2016 12:38:43\n",
      "Number of particles: \t3\n",
      "Selected integrator: \tias15\n",
      "Simulation time:     \t0.000000\n",
      "Current timestep:    \t0.001000\n",
      "---------------------------------\n",
      "<rebound.Particle object, id=0 m=1.0 x=9.3969555124e-07 y=2.93728701074e-06 z=-1.13109289219e-10 vx=-2.84665951561e-06 vy=9.3792488142e-07 vz=-2.21222693148e-11>\n",
      "<rebound.Particle object, id=0 m=3.04043264802e-06 x=-0.309066392854 y=-0.966075342156 z=3.7201708544e-05 vx=0.936267908273 vy=-0.308484018559 vz=7.2760267619e-06>\n",
      "<rebound.Particle object, id=0 m=0.0 x=-0.212569790005 y=-0.992312827526 z=3.7201708544e-05 vx=0.937714646321 vy=-0.303163184461 vz=7.2760267619e-06>\n",
      "---------------------------------\n"
     ]
    }
   ],
   "source": [
    "sim.status()\n"
   ]
  },
  {
   "cell_type": "code",
   "execution_count": 25,
   "metadata": {
    "collapsed": true
   },
   "outputs": [],
   "source": [
    "from IPython.display import display, clear_output\n",
    "import matplotlib.pyplot as plt\n",
    "%matplotlib inline"
   ]
  },
  {
   "cell_type": "code",
   "execution_count": 26,
   "metadata": {
    "collapsed": false
   },
   "outputs": [
    {
     "data": {
      "image/png": "[encoded data removed]",
      "text/plain": [
       "<matplotlib.figure.Figure at 0x110c19c50>"
      ]
     },
     "metadata": {},
     "output_type": "display_data"
    }
   ],
   "source": [
    "fig = rebound.OrbitPlot(sim, color=True, unitlabel=\"[AU]\")"
   ]
  },
  {
   "cell_type": "code",
   "execution_count": null,
   "metadata": {
    "collapsed": false
   },
   "outputs": [],
   "source": [
    "ps = sim.particles\n",
    "\n",
    "def starkForce(reb_sim):\n",
    "    ps[1].ax -= 0.00001\n",
    "    ps[1].ay -= 0.00001\n",
    "    ps[1].az -= 0.00001\n",
    "    \n",
    "    \n",
    "sim.additional_forces = starkForce"
   ]
  },
  {
   "cell_type": "code",
   "execution_count": null,
   "metadata": {
    "collapsed": false
   },
   "outputs": [],
   "source": [
    "\n",
    "import numpy as np\n",
    "Nout = 1000\n",
    "es = np.zeros(Nout)\n",
    "times = np.linspace(0.,100.*2.*np.pi,Nout)\n",
    "\n",
    "for i in times:\n",
    "    print i\n",
    "    sim.integrate(i)\n",
    "    fig = rebound.OrbitPlot(sim,color=True,lim=5.0)\n",
    "    display(fig)\n",
    "    plt.close(fig)\n",
    "    clear_output(wait=True)\n",
    "    \n",
    "    e = sim.particles[0]\n",
    "    r = sim.particles[1]\n",
    "    s = sim.particles[2]\n",
    "    \n",
    "#     if (sum([e.vx,e.vy,e.vz]) + sum([s.vx,s.vy,s.vz])) < sum([r.vx,r.vy,r.vz]):\n",
    "#         print i,'reached'\n",
    "#         break"
   ]
  },
  {
   "cell_type": "code",
   "execution_count": null,
   "metadata": {
    "collapsed": false
   },
   "outputs": [],
   "source": [
    "def starkForce(reb_sim): \n",
    "    ps[1].ax = 0\n",
    "    ps[1].ay = 0\n",
    "    ps[1].az = 0\n",
    "    \n",
    "    \n",
    "sim.additional_forces = starkForce\n",
    "\n",
    "for i in range(30):\n",
    "    print i\n",
    "    sim.integrate(sim.t+i*0.01)\n",
    "    fig = rebound.OrbitPlot(sim,color=True)\n",
    "    display(fig)\n",
    "    plt.close(fig)\n",
    "    clear_output(wait=True)\n",
    "    \n",
    "    "
   ]
  },
  {
   "cell_type": "code",
   "execution_count": null,
   "metadata": {
    "collapsed": false
   },
   "outputs": [],
   "source": [
    "sim.status() # sim.add(m=, x=,y=,z=,vx,vy,vz)\n",
    "\n",
    "# sim.add('Mars')\n",
    "# sim.add('Earth')\n",
    "# # sim.add(m=0.1e-25, x=-0.33, y=-0.96, z=-0.000125753391114,vx=0.0005 ,vy=-0.0001, vz=0.0001)\n",
    "# sim.add(m=0.1e-25, x=-0.320858168504, y=-0.958349840955, z=-0.000125753391114, vx=0.1e-20, vy=0.1e-20, vz=0.1e-20)\n",
    "\n",
    "# sim.add('Venus')\n",
    "# sim.add('Mercury')\n",
    "# sim.add('Sun')\n",
    "\n",
    "\n",
    "# <rebound.Particle object, id=0 m=3.04043264802e-06 x=-0.309066858543 y=-0.96607648127 z=3.72279235517e-05 vx=0.000671075507111 vy=-0.000221107948802 vz=5.10330257704e-09>\n",
    "# <rebound.Particle object, id=0 m=1e-26 x=-0.320857694497 y=-0.958348042783 z=-0.000125727289216 vx=-4.16653226024e-10 vy=-8.43837026257e-11 vz=-1.11835459231e-10>\n",
    "# <rebound.Particle object, id=0 m=1.0 x=4.74006646667e-07 y=1.7981724573e-06 z=2.61018984094e-08 vx=-4.16653226025e-10 vy=-8.43837026267e-11 vz=-1.11835459232e-10>\n",
    "# <rebound.Particle object, id=0 m=1.66011415305e-07 x=0.200253924024 y=-0.388734660017 z=-0.050135739756 vx=0.000807661722459 vy=0.000595200274193 vz=-2.54623540704e-05>\n",
    "# <rebound.Particle object, id=0 m=2.44783828778e-06 x=0.252872493057 y=0.675222145421 z=-0.00533423200054 vx=-0.000791984573594 vy=0.000291624429835 vz=4.97008378502e-05>\n",
    "# <rebound.Particle object, id=0 m=3.22715603755e-07 x=-0.578047931801 y=-1.39188253423 z=-0.014981131703 vx=0.000560439097945 vy=-0.000173564449197 vz=-1.73918748861e-05>\n",
    "\n",
    "\n",
    "# sim.units = ('hr', 'AU', 'msun') # time, length, mass\n",
    "# bodies = ['Sun','Mercury', 'Venus', 'Earth', 'Mars']\n",
    "# sim.add(bodies, date=date)   \n",
    "\n",
    "\n",
    "# 'Jupiter', 'Saturn', 'Uranus', 'Neptune', 'Pluto'\n",
    "# print sim.G  # the graviational constant\n",
    "# print sim.dt # timestep (will change for adaptive integrators such as IAS15).\n",
    "# print sim.t  # current simulation time"
   ]
  },
  {
   "cell_type": "code",
   "execution_count": null,
   "metadata": {
    "collapsed": true
   },
   "outputs": [],
   "source": []
  }
 ],
 "metadata": {
  "kernelspec": {
   "display_name": "Python 2",
   "language": "python",
   "name": "python2"
  },
  "language_info": {
   "codemirror_mode": {
    "name": "ipython",
    "version": 2
   },
   "file_extension": ".py",
   "mimetype": "text/x-python",
   "name": "python",
   "nbconvert_exporter": "python",
   "pygments_lexer": "ipython2",
   "version": "2.7.11"
  }
 },
 "nbformat": 4,
 "nbformat_minor": 0
}
