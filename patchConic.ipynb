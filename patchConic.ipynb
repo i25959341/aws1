{
 "cells": [
  {
   "cell_type": "code",
   "execution_count": 10,
   "metadata": {
    "collapsed": true
   },
   "outputs": [],
   "source": [
    "import rebound\n",
    "import numpy as np\n",
    "import math"
   ]
  },
  {
   "cell_type": "code",
   "execution_count": 11,
   "metadata": {
    "collapsed": false
   },
   "outputs": [
    {
     "name": "stdout",
     "output_type": "stream",
     "text": [
      "---------------------------------\n",
      "REBOUND version:     \t2.19.1\n",
      "REBOUND built on:    \tJul  8 2016 20:15:40\n",
      "Number of particles: \t2\n",
      "Selected integrator: \tias15\n",
      "Simulation time:     \t0.000000\n",
      "Current timestep:    \t0.001000\n",
      "---------------------------------\n",
      "<rebound.Particle object, m=1e-06 x=0.0 y=0.0 z=0.0 vx=0.0 vy=0.0 vz=0.0>\n",
      "<rebound.Particle object, m=1e-34 x=1e-05 y=0.0 z=0.0 vx=0.0 vy=0.000226657555073 vz=0.0>\n",
      "---------------------------------\n",
      "None\n",
      "---------------------------------\n",
      "REBOUND version:     \t2.19.1\n",
      "REBOUND built on:    \tJul  8 2016 20:15:40\n",
      "Number of particles: \t2\n",
      "Selected integrator: \tias15\n",
      "Simulation time:     \t0.000000\n",
      "Current timestep:    \t0.001000\n",
      "---------------------------------\n",
      "<rebound.Particle object, m=1e-06 x=-1e-33 y=0.0 z=0.0 vx=0.0 vy=-2.26657555073e-32 vz=0.0>\n",
      "<rebound.Particle object, m=1e-34 x=1e-05 y=0.0 z=0.0 vx=0.0 vy=0.000226657555073 vz=0.0>\n",
      "---------------------------------\n",
      "None\n"
     ]
    }
   ],
   "source": [
    "sim = rebound.Simulation()\n",
    "sim.units = ('hr', 'AU', 'Msun')\n",
    "sim.integrator = \"ias15\"\n",
    "\n",
    "sim.add(m=1e-6)\n",
    "sim.add(m=1e-34,a=0.00001)\n",
    "\n",
    "print sim.status()\n",
    "sim.move_to_com()\n",
    "print sim.status()"
   ]
  },
  {
   "cell_type": "code",
   "execution_count": 12,
   "metadata": {
    "collapsed": false
   },
   "outputs": [
    {
     "data": {
      "image/png": "[encoded data removed]",
      "text/plain": [
       "<matplotlib.figure.Figure at 0x7f946cca75d0>"
      ]
     },
     "metadata": {},
     "output_type": "display_data"
    }
   ],
   "source": [
    "from IPython.display import display, clear_output\n",
    "import matplotlib.pyplot as plt\n",
    "%matplotlib inline\n",
    "fig = rebound.OrbitPlot(sim)"
   ]
  },
  {
   "cell_type": "code",
   "execution_count": 13,
   "metadata": {
    "collapsed": false
   },
   "outputs": [
    {
     "data": {
      "image/png": "[encoded data removed]",
      "text/plain": [
       "<matplotlib.figure.Figure at 0x7f9443ea6450>"
      ]
     },
     "metadata": {},
     "output_type": "display_data"
    }
   ],
   "source": [
    "Nout = 100\n",
    "a_s = np.zeros(Nout)\n",
    "times = np.linspace(0.,10.*2.*np.pi,Nout)\n",
    "for i, time in enumerate(times):  \n",
    "        \n",
    "    rocketCord = (sim.particles[0].x,sim.particles[0].y,sim.particles[0].z)\n",
    "    earthCord = (sim.particles[1].x,sim.particles[1].y,sim.particles[1].z)\n",
    "    distance = (rocketCord[0]-earthCord[0])**2 +(rocketCord[1]-earthCord[1])**2 +(rocketCord[2]-earthCord[2])**2\n",
    "\n",
    "    if distance>0.01:\n",
    "        break\n",
    "    sim.integrate(time)\n",
    "    a_s[i] = sim.particles[1].a\n",
    "    \n",
    "    fig = rebound.OrbitPlot(sim)\n",
    "    display(fig)\n",
    "    plt.close(fig)\n",
    "    clear_output(wait=True)"
   ]
  },
  {
   "cell_type": "code",
   "execution_count": 14,
   "metadata": {
    "collapsed": false
   },
   "outputs": [
    {
     "name": "stdout",
     "output_type": "stream",
     "text": [
      "---------------------------------\n",
      "REBOUND version:     \t2.19.1\n",
      "REBOUND built on:    \tJul  8 2016 20:15:40\n",
      "Number of particles: \t2\n",
      "Selected integrator: \tias15\n",
      "Simulation time:     \t62.831853\n",
      "Current timestep:    \t0.007636\n",
      "---------------------------------\n",
      "<rebound.Particle object, m=1e-06 x=5.48733565929e-34 y=8.3599729283e-34 z=0.0 vx=-1.89485102441e-32 vy=1.2437460844e-32 vz=0.0>\n",
      "<rebound.Particle object, m=1e-34 x=-5.48733565929e-06 y=-8.35997292832e-06 z=0.0 vx=0.000189485102441 vy=-0.00012437460844 vz=0.0>\n",
      "---------------------------------\n",
      "None\n"
     ]
    }
   ],
   "source": [
    "print sim.status()"
   ]
  },
  {
   "cell_type": "code",
   "execution_count": 16,
   "metadata": {
    "collapsed": false
   },
   "outputs": [],
   "source": [
    "sim2 = rebound.Simulation()\n",
    "sim2.units = ('hr', 'AU', 'Msun')\n",
    "sim2.integrator = \"ias15\""
   ]
  },
  {
   "cell_type": "code",
   "execution_count": 17,
   "metadata": {
    "collapsed": false
   },
   "outputs": [],
   "source": [
    "sim2.add(m=1.)\n",
    "sim2.add(m=1e-6,a=1.)\n",
    "sim2.add(m=1e-6,a=2., Omega = 2.35)\n",
    "sim2.move_to_com() "
   ]
  },
  {
   "cell_type": "code",
   "execution_count": null,
   "metadata": {
    "collapsed": false
   },
   "outputs": [],
   "source": [
    "Nout = 10\n",
    "a_s = np.zeros(Nout)\n",
    "times = np.linspace(0.,sim.t,Nout)\n",
    "for i, time in enumerate(times):       \n",
    "    sim2.integrate(time)  \n",
    "    fig = rebound.OrbitPlot(sim2)\n",
    "    display(fig)\n",
    "    plt.close(fig)\n",
    "    clear_output(wait=True)"
   ]
  },
  {
   "cell_type": "code",
   "execution_count": null,
   "metadata": {
    "collapsed": false
   },
   "outputs": [],
   "source": [
    "sim2.status()"
   ]
  },
  {
   "cell_type": "code",
   "execution_count": null,
   "metadata": {
    "collapsed": false
   },
   "outputs": [],
   "source": [
    "rocket = sim.particles[1]\n",
    "earth = sim2.particles[1]\n",
    "\n",
    "rocketx = rocket.x+earth.x\n",
    "rockety = rocket.y+earth.y\n",
    "rocketz = rocket.z+earth.z\n",
    "\n",
    "rocketvx = rocket.vx+earth.vx\n",
    "rocketvy = rocket.vy+earth.vy\n",
    "rocketvz = rocket.vz+earth.vz"
   ]
  },
  {
   "cell_type": "code",
   "execution_count": null,
   "metadata": {
    "collapsed": false
   },
   "outputs": [],
   "source": [
    "sim2.add(m=1e-34, x = rocketx, y =rockety,z = rocketz,vx=rocketvx,vy=rocketvy,vz= rocketvz)\n",
    "sim2.move_to_com()\n",
    "\n"
   ]
  },
  {
   "cell_type": "code",
   "execution_count": null,
   "metadata": {
    "collapsed": true
   },
   "outputs": [],
   "source": [
    "# sim2.additional_forces = migrationForce2\n",
    "# sim2.force_is_velocity_dependent = 1"
   ]
  },
  {
   "cell_type": "code",
   "execution_count": null,
   "metadata": {
    "collapsed": false
   },
   "outputs": [],
   "source": [
    "Nout = 500\n",
    "a_s = np.zeros(Nout)\n",
    "times = np.linspace(0.,5000.*2.*np.pi,Nout)\n",
    "\n",
    "for i, time in enumerate(times): \n",
    "    \n",
    "    rocketCord = (sim2.particles[3].x,sim2.particles[3].y,sim2.particles[3].z)\n",
    "    marsCord = (sim2.particles[2].x,sim2.particles[2].y,sim2.particles[2].z)\n",
    "    distance = (rocketCord[0]-marsCord[0])**2 +(rocketCord[1]-marsCord[1])**2 +(rocketCord[2]-marsCord[2])**2\n",
    "    \n",
    "    if distance<0.01:\n",
    "        break\n",
    "    \n",
    "    sim2.integrate(time)\n",
    "    fig = rebound.OrbitPlot(sim2)\n",
    "    display(fig)\n",
    "    plt.close(fig)\n",
    "    clear_output(wait=True)"
   ]
  },
  {
   "cell_type": "code",
   "execution_count": null,
   "metadata": {
    "collapsed": true
   },
   "outputs": [],
   "source": []
  },
  {
   "cell_type": "code",
   "execution_count": null,
   "metadata": {
    "collapsed": true
   },
   "outputs": [],
   "source": []
  },
  {
   "cell_type": "code",
   "execution_count": null,
   "metadata": {
    "collapsed": true
   },
   "outputs": [],
   "source": []
  },
  {
   "cell_type": "code",
   "execution_count": null,
   "metadata": {
    "collapsed": true
   },
   "outputs": [],
   "source": []
  }
 ],
 "metadata": {
  "kernelspec": {
   "display_name": "Python 2",
   "language": "python",
   "name": "python2"
  },
  "language_info": {
   "codemirror_mode": {
    "name": "ipython",
    "version": 2
   },
   "file_extension": ".py",
   "mimetype": "text/x-python",
   "name": "python",
   "nbconvert_exporter": "python",
   "pygments_lexer": "ipython2",
   "version": "2.7.6"
  }
 },
 "nbformat": 4,
 "nbformat_minor": 0
}
